{
 "cells": [
  {
   "cell_type": "markdown",
   "id": "20635051",
   "metadata": {},
   "source": [
    "# Import"
   ]
  },
  {
   "cell_type": "code",
   "execution_count": 89,
   "id": "faa95b40",
   "metadata": {},
   "outputs": [
    {
     "name": "stdout",
     "output_type": "stream",
     "text": [
      "The autoreload extension is already loaded. To reload it, use:\n",
      "  %reload_ext autoreload\n"
     ]
    },
    {
     "data": {
      "text/html": [
       "<style>.container { width:90% !important; }</style>"
      ],
      "text/plain": [
       "<IPython.core.display.HTML object>"
      ]
     },
     "metadata": {},
     "output_type": "display_data"
    }
   ],
   "source": [
    "%load_ext autoreload\n",
    "%autoreload 2\n",
    "\n",
    "import importlib\n",
    "import numpy as np\n",
    "import math\n",
    "import itertools \n",
    "import pandas as pd\n",
    "import numpy as np\n",
    "import io\n",
    "import msoffcrypto\n",
    "import openpyxl\n",
    "import plotly.express as px\n",
    "import plotly\n",
    "import matplotlib.pyplot as plt\n",
    "import plotly.graph_objects as go\n",
    "import streamlit as st\n",
    "import json\n",
    "from IPython.display import Markdown, display\n",
    "import toml\n",
    "import sys, os\n",
    "import collections\n",
    "from types import SimpleNamespace\n",
    "import copy\n",
    "import matplotlib.patches as mpatch\n",
    "import time\n",
    "\n",
    "%matplotlib inline \n",
    "%config Completer.use_jedi = True\n",
    "\n",
    "from IPython.core.interactiveshell import InteractiveShell\n",
    "InteractiveShell.ast_node_interactivity = \"all\"\n",
    "\n",
    "from IPython.display import display, HTML\n",
    "display(HTML(\"<style>.container { width:90% !important; }</style>\"))\n",
    "\n",
    "from utils import *"
   ]
  },
  {
   "cell_type": "code",
   "execution_count": 99,
   "id": "0956348d",
   "metadata": {
    "scrolled": false
   },
   "outputs": [
    {
     "data": {
      "text/plain": [
       "<matplotlib.image.AxesImage at 0x2703419a800>"
      ]
     },
     "execution_count": 99,
     "metadata": {},
     "output_type": "execute_result"
    },
    {
     "data": {
      "image/png": "[encoded data removed]",
      "text/plain": [
       "<Figure size 640x480 with 1 Axes>"
      ]
     },
     "metadata": {},
     "output_type": "display_data"
    }
   ],
   "source": [
    "pos = [(5,5),(1,3),(9,3), (9,9)] \n",
    "EPOCH = 10\n",
    "algo = env_([], False,10) \n",
    "grid = algo.grid\n",
    "plt.imshow(grid)"
   ]
  },
  {
   "cell_type": "code",
   "execution_count": 97,
   "id": "c9946020",
   "metadata": {},
   "outputs": [
    {
     "data": {
      "text/plain": [
       "array([[2, 2, 2, 2, 2, 2, 2, 2, 2, 2],\n",
       "       [2, 2, 2, 2, 2, 2, 2, 2, 2, 2],\n",
       "       [2, 2, 2, 2, 2, 2, 2, 2, 2, 2],\n",
       "       [2, 2, 2, 2, 2, 2, 3, 2, 2, 2],\n",
       "       [2, 2, 2, 2, 2, 2, 2, 2, 2, 2],\n",
       "       [2, 2, 2, 2, 2, 2, 2, 2, 2, 2],\n",
       "       [2, 2, 2, 2, 2, 2, 2, 2, 2, 2],\n",
       "       [2, 2, 2, 2, 2, 2, 2, 2, 2, 2],\n",
       "       [2, 2, 2, 2, 2, 2, 2, 2, 2, 2],\n",
       "       [2, 2, 2, 2, 2, 2, 2, 2, 2, 2]])"
      ]
     },
     "execution_count": 97,
     "metadata": {},
     "output_type": "execute_result"
    }
   ],
   "source": [
    "grid"
   ]
  },
  {
   "cell_type": "code",
   "execution_count": null,
   "id": "f7694354",
   "metadata": {},
   "outputs": [],
   "source": [
    "np.choice()"
   ]
  },
  {
   "cell_type": "code",
   "execution_count": 91,
   "id": "4049dee0",
   "metadata": {},
   "outputs": [
    {
     "name": "stdout",
     "output_type": "stream",
     "text": [
      "(1, 3)\n",
      "(3, 6)\n",
      "(5, 5)\n",
      "(9, 3)\n",
      "(9, 9)\n"
     ]
    },
    {
     "data": {
      "text/plain": [
       "{'R0': {'pos': (1, 3)},\n",
       " 'H': {'pos': (3, 6)},\n",
       " 'R1': {'pos': (5, 5)},\n",
       " 'R2': {'pos': (9, 3)},\n",
       " 'R3': {'pos': (9, 9)}}"
      ]
     },
     "execution_count": 91,
     "metadata": {},
     "output_type": "execute_result"
    },
    {
     "data": {
      "text/plain": [
       "NodeDataView({'R0': {'pos': (1, 3)}, 'H': {'pos': (3, 6)}, 'R1': {'pos': (5, 5)}, 'R2': {'pos': (9, 3)}, 'R3': {'pos': (9, 9)}})"
      ]
     },
     "execution_count": 91,
     "metadata": {},
     "output_type": "execute_result"
    },
    {
     "data": {
      "text/plain": [
       "[('R0', 'H'),\n",
       " ('R0', 'R1'),\n",
       " ('R0', 'R2'),\n",
       " ('R0', 'R3'),\n",
       " ('H', 'R1'),\n",
       " ('H', 'R2'),\n",
       " ('H', 'R3'),\n",
       " ('R1', 'R2'),\n",
       " ('R1', 'R3'),\n",
       " ('R2', 'R3')]"
      ]
     },
     "execution_count": 91,
     "metadata": {},
     "output_type": "execute_result"
    },
    {
     "data": {
      "text/plain": [
       "EdgeDataView([('R0', 'H', {'dist': 6, 'path': [(1, 3), (2, 3), (3, 3), (3, 4), (3, 5), (3, 6)]}), ('R0', 'R1', {'dist': 7, 'path': [(1, 3), (2, 3), (3, 3), (4, 3), (5, 3), (5, 4), (5, 5)]}), ('R0', 'R2', {'dist': 9, 'path': [(1, 3), (2, 3), (3, 3), (4, 3), (5, 3), (6, 3), (7, 3), (8, 3), (9, 3)]}), ('R0', 'R3', {'dist': 23, 'path': [(1, 3), (2, 3), (3, 3), (4, 3), (5, 3), (6, 3), (7, 3), (8, 3), (8, 4), (9, 4), (10, 4), (10, 5), (11, 5), (12, 5), (13, 5), (13, 6), (13, 7), (13, 8), (13, 9), (12, 9), (11, 9), (10, 9), (9, 9)]}), ('H', 'R1', {'dist': 4, 'path': [(3, 6), (4, 6), (5, 6), (5, 5)]}), ('H', 'R2', {'dist': 10, 'path': [(3, 6), (4, 6), (5, 6), (6, 6), (6, 5), (7, 5), (8, 5), (9, 5), (9, 4), (9, 3)]}), ('H', 'R3', {'dist': 20, 'path': [(3, 6), (4, 6), (5, 6), (6, 6), (6, 5), (7, 5), (8, 5), (9, 5), (10, 5), (11, 5), (12, 5), (13, 5), (13, 6), (13, 7), (13, 8), (13, 9), (12, 9), (11, 9), (10, 9), (9, 9)]}), ('R1', 'R2', {'dist': 7, 'path': [(5, 5), (6, 5), (7, 5), (8, 5), (9, 5), (9, 4), (9, 3)]}), ('R1', 'R3', {'dist': 17, 'path': [(5, 5), (6, 5), (7, 5), (8, 5), (9, 5), (10, 5), (11, 5), (12, 5), (13, 5), (13, 6), (13, 7), (13, 8), (13, 9), (12, 9), (11, 9), (10, 9), (9, 9)]}), ('R2', 'R3', {'dist': 15, 'path': [(9, 3), (10, 3), (10, 4), (10, 5), (11, 5), (12, 5), (13, 5), (13, 6), (13, 7), (13, 8), (13, 9), (12, 9), (11, 9), (10, 9), (9, 9)]})])"
      ]
     },
     "execution_count": 91,
     "metadata": {},
     "output_type": "execute_result"
    }
   ],
   "source": [
    "G = nx.Graph()\n",
    "\n",
    "nodes = {}\n",
    "ri = 0\n",
    "for pos in zip(*np.where(grid >= 2)):\n",
    "    print(pos)\n",
    "    if grid[pos] ==2:\n",
    "        node = \"R{}\".format(ri)\n",
    "        ri+=1\n",
    "    if grid[pos] ==3:\n",
    "        node = \"H\"\n",
    "\n",
    "    nodes[node] = {'pos' : pos}\n",
    "nodes\n",
    "\n",
    "G.add_nodes_from(nodes.items())\n",
    "G.nodes(data = True)\n",
    "\n",
    "it = list(itertools.combinations(G.nodes(), 2))\n",
    "it\n",
    "edges = {}\n",
    "for n1 , n2 in it:\n",
    "    start = G.nodes[n1]['pos']\n",
    "    goal  = G.nodes[n2]['pos']\n",
    "    A = (grid !=0)*1\n",
    "    A[goal] = 0\n",
    "#     A = algo.grid0.copy()\n",
    "#     n1,n2, start, goal , L\n",
    "    A1 = Path1(A,start)\n",
    "    path = Path2(A1.copy() ,start, goal)\n",
    "    dist = len(path)\n",
    "    G.add_edge(n1, n2, dist = dist,path = path)\n",
    "#     edges[(n1,n2)] = {'dist': dist, 'path' : path}\n",
    "    \n",
    "G.edges(data = True)\n",
    "\n",
    " "
   ]
  },
  {
   "cell_type": "code",
   "execution_count": 94,
   "id": "01315c71",
   "metadata": {},
   "outputs": [
    {
     "ename": "AttributeError",
     "evalue": "'types.SimpleNamespace' object has no attribute 'pas'",
     "output_type": "error",
     "traceback": [
      "\u001b[1;31m---------------------------------------------------------------------------\u001b[0m",
      "\u001b[1;31mAttributeError\u001b[0m                            Traceback (most recent call last)",
      "Cell \u001b[1;32mIn[94], line 3\u001b[0m\n\u001b[0;32m      1\u001b[0m \u001b[38;5;28;01mfor\u001b[39;00m n1,n2, data \u001b[38;5;129;01min\u001b[39;00m G\u001b[38;5;241m.\u001b[39medges(data \u001b[38;5;241m=\u001b[39m \u001b[38;5;28;01mTrue\u001b[39;00m):\n\u001b[0;32m      2\u001b[0m     L \u001b[38;5;241m=\u001b[39m data[\u001b[38;5;124m'\u001b[39m\u001b[38;5;124mpath\u001b[39m\u001b[38;5;124m'\u001b[39m]\n\u001b[1;32m----> 3\u001b[0m     L \u001b[38;5;241m=\u001b[39m np\u001b[38;5;241m.\u001b[39marray(L)\u001b[38;5;241m*\u001b[39m\u001b[43malgo\u001b[49m\u001b[38;5;241;43m.\u001b[39;49m\u001b[43mpas\u001b[49m \u001b[38;5;241m+\u001b[39m algo\u001b[38;5;241m.\u001b[39mpas\u001b[38;5;241m/\u001b[39m\u001b[38;5;241m2\u001b[39m\n\u001b[0;32m      4\u001b[0m     L \u001b[38;5;241m=\u001b[39m \u001b[38;5;28mlist\u001b[39m(\u001b[38;5;28mmap\u001b[39m(\u001b[38;5;28mtuple\u001b[39m, L))\n\u001b[0;32m      5\u001b[0m     \u001b[38;5;28;01mfor\u001b[39;00m j \u001b[38;5;129;01min\u001b[39;00m \u001b[38;5;28mrange\u001b[39m(\u001b[38;5;28mlen\u001b[39m(L)\u001b[38;5;241m-\u001b[39m\u001b[38;5;241m1\u001b[39m):\n",
      "\u001b[1;31mAttributeError\u001b[0m: 'types.SimpleNamespace' object has no attribute 'pas'"
     ]
    }
   ],
   "source": [
    "for n1,n2, data in G.edges(data = True):\n",
    "    L = data['path']\n",
    "    L = np.array(L)*algo.pas + algo.pas/2\n",
    "    L = list(map(tuple, L))\n",
    "    for j in range(len(L)-1):\n",
    "        shape = [L[j], L[j+1]]\n",
    "        draw.line(shape, fill =\"white\", width = 4)\n",
    "    \n",
    "        "
   ]
  },
  {
   "cell_type": "code",
   "execution_count": 83,
   "id": "c243f2b4",
   "metadata": {},
   "outputs": [],
   "source": [
    "Gx = nx.minimum_spanning_tree(G,'dist') "
   ]
  },
  {
   "cell_type": "code",
   "execution_count": 84,
   "id": "3bd1c9a4",
   "metadata": {},
   "outputs": [
    {
     "data": {
      "image/png": "[encoded data removed]",
      "text/plain": [
       "<Figure size 640x480 with 1 Axes>"
      ]
     },
     "metadata": {},
     "output_type": "display_data"
    }
   ],
   "source": [
    "pos = {k : (v['pos'][1],algo.size-v['pos'][0]) for k,v in Gx.nodes(data = True)}\n",
    "nx.draw_networkx(Gx, with_labels = True, pos = pos)"
   ]
  },
  {
   "cell_type": "code",
   "execution_count": 86,
   "id": "aa6f418e",
   "metadata": {},
   "outputs": [
    {
     "data": {
      "image/png": "[encoded data removed]",
      "text/plain": [
       "<Figure size 640x480 with 1 Axes>"
      ]
     },
     "metadata": {},
     "output_type": "display_data"
    }
   ],
   "source": [
    "pos = {k : (v['pos'][1],v['pos'][0]) for k,v in Gx.nodes(data = True)}\n",
    "nx.draw_networkx(Gx, with_labels = True, pos = pos)"
   ]
  },
  {
   "cell_type": "code",
   "execution_count": 22,
   "id": "b3fbefa4",
   "metadata": {},
   "outputs": [],
   "source": [
    "G = nx.Graph(nodes)"
   ]
  },
  {
   "cell_type": "code",
   "execution_count": 26,
   "id": "f517f860",
   "metadata": {},
   "outputs": [
    {
     "data": {
      "text/plain": [
       "NodeView(('R0', 'H', 'R1', 'R2', 'R3', 'pos'))"
      ]
     },
     "execution_count": 26,
     "metadata": {},
     "output_type": "execute_result"
    }
   ],
   "source": [
    "G.nodes()"
   ]
  },
  {
   "cell_type": "code",
   "execution_count": null,
   "id": "adc943a6",
   "metadata": {},
   "outputs": [],
   "source": [
    "nx.from_dict_of_lists()"
   ]
  },
  {
   "cell_type": "code",
   "execution_count": 6,
   "id": "79652370",
   "metadata": {
    "collapsed": true
   },
   "outputs": [
    {
     "data": {
      "text/plain": [
       "<numpy.ndenumerate at 0x2703245d030>"
      ]
     },
     "execution_count": 6,
     "metadata": {},
     "output_type": "execute_result"
    }
   ],
   "source": []
  },
  {
   "cell_type": "code",
   "execution_count": 5,
   "id": "91759c3a",
   "metadata": {
    "collapsed": true
   },
   "outputs": [
    {
     "data": {
      "text/plain": [
       "{(0, 0): 0.0,\n",
       " (0, 1): 0.0,\n",
       " (0, 2): 0.0,\n",
       " (0, 3): 0.0,\n",
       " (0, 4): 0.0,\n",
       " (0, 5): 0.0,\n",
       " (0, 6): 0.0,\n",
       " (0, 7): 0.0,\n",
       " (0, 8): 0.0,\n",
       " (0, 9): 0.0,\n",
       " (0, 10): 0.0,\n",
       " (0, 11): 0.0,\n",
       " (0, 12): 0.0,\n",
       " (0, 13): 0.0,\n",
       " (0, 14): 0.0,\n",
       " (0, 15): 0.0,\n",
       " (1, 0): 0.0,\n",
       " (1, 1): 0.0,\n",
       " (1, 2): 0.0,\n",
       " (1, 3): 3.0,\n",
       " (1, 4): 0.0,\n",
       " (1, 5): 0.0,\n",
       " (1, 6): 0.0,\n",
       " (1, 7): 0.0,\n",
       " (1, 8): 0.0,\n",
       " (1, 9): 0.0,\n",
       " (1, 10): 0.0,\n",
       " (1, 11): 0.0,\n",
       " (1, 12): 0.0,\n",
       " (1, 13): 0.0,\n",
       " (1, 14): 0.0,\n",
       " (1, 15): 0.0,\n",
       " (2, 0): 0.0,\n",
       " (2, 1): 0.0,\n",
       " (2, 2): 0.0,\n",
       " (2, 3): 0.0,\n",
       " (2, 4): 0.0,\n",
       " (2, 5): 0.0,\n",
       " (2, 6): 0.0,\n",
       " (2, 7): 0.0,\n",
       " (2, 8): 0.0,\n",
       " (2, 9): 0.0,\n",
       " (2, 10): 0.0,\n",
       " (2, 11): 0.0,\n",
       " (2, 12): 0.0,\n",
       " (2, 13): 0.0,\n",
       " (2, 14): 0.0,\n",
       " (2, 15): 0.0,\n",
       " (3, 0): 0.0,\n",
       " (3, 1): 0.0,\n",
       " (3, 2): 0.0,\n",
       " (3, 3): 0.0,\n",
       " (3, 4): 0.0,\n",
       " (3, 5): 0.0,\n",
       " (3, 6): 0.0,\n",
       " (3, 7): 0.0,\n",
       " (3, 8): 0.0,\n",
       " (3, 9): 0.0,\n",
       " (3, 10): 0.0,\n",
       " (3, 11): 0.0,\n",
       " (3, 12): 0.0,\n",
       " (3, 13): 0.0,\n",
       " (3, 14): 0.0,\n",
       " (3, 15): 0.0,\n",
       " (4, 0): 0.0,\n",
       " (4, 1): 0.0,\n",
       " (4, 2): 0.0,\n",
       " (4, 3): 0.0,\n",
       " (4, 4): 0.0,\n",
       " (4, 5): 0.0,\n",
       " (4, 6): 0.0,\n",
       " (4, 7): 0.0,\n",
       " (4, 8): 0.0,\n",
       " (4, 9): 0.0,\n",
       " (4, 10): 0.0,\n",
       " (4, 11): 0.0,\n",
       " (4, 12): 0.0,\n",
       " (4, 13): 0.0,\n",
       " (4, 14): 0.0,\n",
       " (4, 15): 0.0,\n",
       " (5, 0): 0.0,\n",
       " (5, 1): 0.0,\n",
       " (5, 2): 0.0,\n",
       " (5, 3): 0.0,\n",
       " (5, 4): 0.0,\n",
       " (5, 5): 2.0,\n",
       " (5, 6): 0.0,\n",
       " (5, 7): 0.0,\n",
       " (5, 8): 0.0,\n",
       " (5, 9): 0.0,\n",
       " (5, 10): 0.0,\n",
       " (5, 11): 0.0,\n",
       " (5, 12): 0.0,\n",
       " (5, 13): 0.0,\n",
       " (5, 14): 0.0,\n",
       " (5, 15): 0.0,\n",
       " (6, 0): 0.0,\n",
       " (6, 1): 0.0,\n",
       " (6, 2): 0.0,\n",
       " (6, 3): 0.0,\n",
       " (6, 4): 0.0,\n",
       " (6, 5): 0.0,\n",
       " (6, 6): 0.0,\n",
       " (6, 7): 0.0,\n",
       " (6, 8): 0.0,\n",
       " (6, 9): 0.0,\n",
       " (6, 10): 0.0,\n",
       " (6, 11): 0.0,\n",
       " (6, 12): 0.0,\n",
       " (6, 13): 0.0,\n",
       " (6, 14): 0.0,\n",
       " (6, 15): 0.0,\n",
       " (7, 0): 0.0,\n",
       " (7, 1): 0.0,\n",
       " (7, 2): 0.0,\n",
       " (7, 3): 0.0,\n",
       " (7, 4): 0.0,\n",
       " (7, 5): 0.0,\n",
       " (7, 6): 0.0,\n",
       " (7, 7): 0.0,\n",
       " (7, 8): 0.0,\n",
       " (7, 9): 0.0,\n",
       " (7, 10): 0.0,\n",
       " (7, 11): 0.0,\n",
       " (7, 12): 0.0,\n",
       " (7, 13): 0.0,\n",
       " (7, 14): 0.0,\n",
       " (7, 15): 0.0,\n",
       " (8, 0): 0.0,\n",
       " (8, 1): 0.0,\n",
       " (8, 2): 0.0,\n",
       " (8, 3): 0.0,\n",
       " (8, 4): 0.0,\n",
       " (8, 5): 0.0,\n",
       " (8, 6): 0.0,\n",
       " (8, 7): 0.0,\n",
       " (8, 8): 0.0,\n",
       " (8, 9): 0.0,\n",
       " (8, 10): 0.0,\n",
       " (8, 11): 0.0,\n",
       " (8, 12): 0.0,\n",
       " (8, 13): 0.0,\n",
       " (8, 14): 0.0,\n",
       " (8, 15): 0.0,\n",
       " (9, 0): 0.0,\n",
       " (9, 1): 0.0,\n",
       " (9, 2): 0.0,\n",
       " (9, 3): 4.0,\n",
       " (9, 4): 0.0,\n",
       " (9, 5): 0.0,\n",
       " (9, 6): 0.0,\n",
       " (9, 7): 0.0,\n",
       " (9, 8): 0.0,\n",
       " (9, 9): 5.0,\n",
       " (9, 10): 0.0,\n",
       " (9, 11): 0.0,\n",
       " (9, 12): 0.0,\n",
       " (9, 13): 0.0,\n",
       " (9, 14): 0.0,\n",
       " (9, 15): 0.0,\n",
       " (10, 0): 0.0,\n",
       " (10, 1): 0.0,\n",
       " (10, 2): 0.0,\n",
       " (10, 3): 0.0,\n",
       " (10, 4): 0.0,\n",
       " (10, 5): 0.0,\n",
       " (10, 6): 0.0,\n",
       " (10, 7): 0.0,\n",
       " (10, 8): 0.0,\n",
       " (10, 9): 0.0,\n",
       " (10, 10): 0.0,\n",
       " (10, 11): 0.0,\n",
       " (10, 12): 0.0,\n",
       " (10, 13): 0.0,\n",
       " (10, 14): 0.0,\n",
       " (10, 15): 0.0,\n",
       " (11, 0): 0.0,\n",
       " (11, 1): 0.0,\n",
       " (11, 2): 0.0,\n",
       " (11, 3): 0.0,\n",
       " (11, 4): 0.0,\n",
       " (11, 5): 0.0,\n",
       " (11, 6): 0.0,\n",
       " (11, 7): 0.0,\n",
       " (11, 8): 0.0,\n",
       " (11, 9): 0.0,\n",
       " (11, 10): 0.0,\n",
       " (11, 11): 0.0,\n",
       " (11, 12): 0.0,\n",
       " (11, 13): 0.0,\n",
       " (11, 14): 0.0,\n",
       " (11, 15): 0.0,\n",
       " (12, 0): 0.0,\n",
       " (12, 1): 0.0,\n",
       " (12, 2): 0.0,\n",
       " (12, 3): 0.0,\n",
       " (12, 4): 0.0,\n",
       " (12, 5): 0.0,\n",
       " (12, 6): 0.0,\n",
       " (12, 7): 0.0,\n",
       " (12, 8): 0.0,\n",
       " (12, 9): 0.0,\n",
       " (12, 10): 0.0,\n",
       " (12, 11): 0.0,\n",
       " (12, 12): 0.0,\n",
       " (12, 13): 0.0,\n",
       " (12, 14): 0.0,\n",
       " (12, 15): 0.0,\n",
       " (13, 0): 0.0,\n",
       " (13, 1): 0.0,\n",
       " (13, 2): 0.0,\n",
       " (13, 3): 0.0,\n",
       " (13, 4): 0.0,\n",
       " (13, 5): 0.0,\n",
       " (13, 6): 0.0,\n",
       " (13, 7): 0.0,\n",
       " (13, 8): 0.0,\n",
       " (13, 9): 0.0,\n",
       " (13, 10): 0.0,\n",
       " (13, 11): 0.0,\n",
       " (13, 12): 0.0,\n",
       " (13, 13): 0.0,\n",
       " (13, 14): 0.0,\n",
       " (13, 15): 0.0,\n",
       " (14, 0): 0.0,\n",
       " (14, 1): 0.0,\n",
       " (14, 2): 0.0,\n",
       " (14, 3): 0.0,\n",
       " (14, 4): 0.0,\n",
       " (14, 5): 0.0,\n",
       " (14, 6): 0.0,\n",
       " (14, 7): 0.0,\n",
       " (14, 8): 0.0,\n",
       " (14, 9): 0.0,\n",
       " (14, 10): 0.0,\n",
       " (14, 11): 0.0,\n",
       " (14, 12): 0.0,\n",
       " (14, 13): 0.0,\n",
       " (14, 14): 0.0,\n",
       " (14, 15): 0.0,\n",
       " (15, 0): 0.0,\n",
       " (15, 1): 0.0,\n",
       " (15, 2): 0.0,\n",
       " (15, 3): 0.0,\n",
       " (15, 4): 0.0,\n",
       " (15, 5): 0.0,\n",
       " (15, 6): 0.0,\n",
       " (15, 7): 0.0,\n",
       " (15, 8): 0.0,\n",
       " (15, 9): 0.0,\n",
       " (15, 10): 0.0,\n",
       " (15, 11): 0.0,\n",
       " (15, 12): 0.0,\n",
       " (15, 13): 0.0,\n",
       " (15, 14): 0.0,\n",
       " (15, 15): 0.0}"
      ]
     },
     "execution_count": 5,
     "metadata": {},
     "output_type": "execute_result"
    }
   ],
   "source": [
    "dict(np.ndenumerate(algo.T))"
   ]
  },
  {
   "cell_type": "code",
   "execution_count": 67,
   "id": "ce993f6a",
   "metadata": {},
   "outputs": [
    {
     "data": {
      "text/plain": [
       "((1, 3), (5, 5), (9, 3), (9, 9))"
      ]
     },
     "execution_count": 67,
     "metadata": {},
     "output_type": "execute_result"
    }
   ],
   "source": [
    "pos = tuple(zip(*np.where(algo.T >= 2)))\n",
    "pos\n",
    "\n",
    "# np.sort(algo.T[pos])"
   ]
  },
  {
   "cell_type": "code",
   "execution_count": 70,
   "id": "42d50145",
   "metadata": {},
   "outputs": [],
   "source": [
    "it = list(itertools.permutations(pos, 2)) "
   ]
  },
  {
   "cell_type": "code",
   "execution_count": 44,
   "id": "474fae42",
   "metadata": {},
   "outputs": [],
   "source": [
    "A = algo.A\n",
    "T = algo.T\n",
    "H1 = algo.H1\n",
    "\n",
    "start = (3,6)\n",
    "\n",
    "A1 = Path1(A.copy(),H1.pos)\n",
    "Tpos = np.where(T == 5)\n",
    "LenList = A1[Tpos]-2\n",
    "idx = np.argmin(LenList)\n",
    "Len = LenList[idx]\n",
    "goal = tuple(zip(*Tpos))[idx]\n",
    "L = Path2(A1.copy() ,H1.pos,  goal)"
   ]
  },
  {
   "cell_type": "code",
   "execution_count": 45,
   "id": "70daaf0e",
   "metadata": {},
   "outputs": [
    {
     "data": {
      "text/plain": [
       "((3, 6), (5, 5))"
      ]
     },
     "execution_count": 45,
     "metadata": {},
     "output_type": "execute_result"
    },
    {
     "data": {
      "text/plain": [
       "[(3, 6), (4, 5), (5, 5)]"
      ]
     },
     "execution_count": 45,
     "metadata": {},
     "output_type": "execute_result"
    }
   ],
   "source": [
    "start, goal\n",
    "L"
   ]
  },
  {
   "cell_type": "code",
   "execution_count": 39,
   "id": "ae3b2536",
   "metadata": {},
   "outputs": [],
   "source": [
    "\n"
   ]
  },
  {
   "cell_type": "code",
   "execution_count": 41,
   "id": "89bed531",
   "metadata": {},
   "outputs": [
    {
     "data": {
      "text/plain": [
       "[(13, 16), (14, 15), (15, 15)]"
      ]
     },
     "execution_count": 41,
     "metadata": {},
     "output_type": "execute_result"
    }
   ],
   "source": [
    "L = np.array(L)+10\n",
    "L = list(map(tuple, x))"
   ]
  },
  {
   "cell_type": "code",
   "execution_count": null,
   "id": "33d8740c",
   "metadata": {},
   "outputs": [],
   "source": []
  }
 ],
 "metadata": {
  "kernelspec": {
   "display_name": "Python 3 (ipykernel)",
   "language": "python",
   "name": "python3"
  },
  "language_info": {
   "codemirror_mode": {
    "name": "ipython",
    "version": 3
   },
   "file_extension": ".py",
   "mimetype": "text/x-python",
   "name": "python",
   "nbconvert_exporter": "python",
   "pygments_lexer": "ipython3",
   "version": "3.10.10"
  },
  "toc": {
   "base_numbering": 1,
   "nav_menu": {},
   "number_sections": true,
   "sideBar": true,
   "skip_h1_title": false,
   "title_cell": "Table of Contents",
   "title_sidebar": "Contents",
   "toc_cell": false,
   "toc_position": {},
   "toc_section_display": true,
   "toc_window_display": false
  }
 },
 "nbformat": 4,
 "nbformat_minor": 5
}
