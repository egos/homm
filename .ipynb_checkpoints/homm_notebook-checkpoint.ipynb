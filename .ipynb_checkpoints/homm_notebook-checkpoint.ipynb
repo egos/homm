{
 "cells": [
  {
   "cell_type": "markdown",
   "id": "20635051",
   "metadata": {},
   "source": [
    "# Import"
   ]
  },
  {
   "cell_type": "code",
   "execution_count": 42,
   "id": "faa95b40",
   "metadata": {},
   "outputs": [
    {
     "name": "stdout",
     "output_type": "stream",
     "text": [
      "The autoreload extension is already loaded. To reload it, use:\n",
      "  %reload_ext autoreload\n"
     ]
    },
    {
     "data": {
      "text/html": [
       "<style>.container { width:90% !important; }</style>"
      ],
      "text/plain": [
       "<IPython.core.display.HTML object>"
      ]
     },
     "metadata": {},
     "output_type": "display_data"
    }
   ],
   "source": [
    "%load_ext autoreload\n",
    "%autoreload 2\n",
    "\n",
    "import importlib\n",
    "import numpy as np\n",
    "import math\n",
    "import itertools \n",
    "import pandas as pd\n",
    "import numpy as np\n",
    "import io\n",
    "import msoffcrypto\n",
    "from sklearn.metrics import r2_score\n",
    "import openpyxl\n",
    "import plotly.express as px\n",
    "\n",
    "import plotly\n",
    "import matplotlib.pyplot as plt\n",
    "import plotly.graph_objects as go\n",
    "import streamlit as st\n",
    "import json\n",
    "from math import factorial as fact\n",
    "from IPython.display import Markdown, display\n",
    "import toml\n",
    "import sys, os\n",
    "import collections\n",
    "from types import SimpleNamespace\n",
    "import copy\n",
    "import matplotlib.patches as mpatch\n",
    "import time\n",
    "\n",
    "%matplotlib inline \n",
    "%config Completer.use_jedi = True\n",
    "\n",
    "from IPython.core.interactiveshell import InteractiveShell\n",
    "InteractiveShell.ast_node_interactivity = \"all\"\n",
    "\n",
    "from IPython.display import display, HTML\n",
    "display(HTML(\"<style>.container { width:90% !important; }</style>\"))\n",
    "\n",
    "from utils import *"
   ]
  },
  {
   "cell_type": "code",
   "execution_count": 54,
   "id": "0956348d",
   "metadata": {
    "scrolled": false
   },
   "outputs": [
    {
     "name": "stdout",
     "output_type": "stream",
     "text": [
      "(5, 5)\n",
      "(1, 3)\n",
      "(9, 3)\n",
      "(9, 9)\n"
     ]
    },
    {
     "data": {
      "text/plain": [
       "<matplotlib.image.AxesImage at 0x1c0e654b6d0>"
      ]
     },
     "execution_count": 54,
     "metadata": {},
     "output_type": "execute_result"
    },
    {
     "data": {
      "image/png": "[encoded data removed]",
      "text/plain": [
       "<Figure size 640x480 with 1 Axes>"
      ]
     },
     "metadata": {},
     "output_type": "display_data"
    }
   ],
   "source": [
    "pos = [(5,5),(1,3),(9,3), (9,9)] \n",
    "EPOCH = 10\n",
    "algo = algo_ini(pos) \n",
    "plt.imshow(algo.A + algo.T)"
   ]
  },
  {
   "cell_type": "code",
   "execution_count": 67,
   "id": "ce993f6a",
   "metadata": {},
   "outputs": [
    {
     "data": {
      "text/plain": [
       "((1, 3), (5, 5), (9, 3), (9, 9))"
      ]
     },
     "execution_count": 67,
     "metadata": {},
     "output_type": "execute_result"
    }
   ],
   "source": [
    "pos = tuple(zip(*np.where(algo.T >= 2)))\n",
    "pos\n",
    "\n",
    "# np.sort(algo.T[pos])"
   ]
  },
  {
   "cell_type": "code",
   "execution_count": 70,
   "id": "42d50145",
   "metadata": {},
   "outputs": [],
   "source": [
    "it = list(itertools.permutations(pos, 2)) "
   ]
  },
  {
   "cell_type": "code",
   "execution_count": 44,
   "id": "474fae42",
   "metadata": {},
   "outputs": [],
   "source": [
    "A = algo.A\n",
    "T = algo.T\n",
    "H1 = algo.H1\n",
    "\n",
    "start = (3,6)\n",
    "\n",
    "A1 = Path1(A.copy(),H1.pos)\n",
    "Tpos = np.where(T == 5)\n",
    "LenList = A1[Tpos]-2\n",
    "idx = np.argmin(LenList)\n",
    "Len = LenList[idx]\n",
    "goal = tuple(zip(*Tpos))[idx]\n",
    "L = Path2(A1.copy() ,H1.pos,  goal)"
   ]
  },
  {
   "cell_type": "code",
   "execution_count": 45,
   "id": "70daaf0e",
   "metadata": {},
   "outputs": [
    {
     "data": {
      "text/plain": [
       "((3, 6), (5, 5))"
      ]
     },
     "execution_count": 45,
     "metadata": {},
     "output_type": "execute_result"
    },
    {
     "data": {
      "text/plain": [
       "[(3, 6), (4, 5), (5, 5)]"
      ]
     },
     "execution_count": 45,
     "metadata": {},
     "output_type": "execute_result"
    }
   ],
   "source": [
    "start, goal\n",
    "L"
   ]
  },
  {
   "cell_type": "code",
   "execution_count": 39,
   "id": "ae3b2536",
   "metadata": {},
   "outputs": [],
   "source": [
    "\n"
   ]
  },
  {
   "cell_type": "code",
   "execution_count": 41,
   "id": "89bed531",
   "metadata": {},
   "outputs": [
    {
     "data": {
      "text/plain": [
       "[(13, 16), (14, 15), (15, 15)]"
      ]
     },
     "execution_count": 41,
     "metadata": {},
     "output_type": "execute_result"
    }
   ],
   "source": [
    "L = np.array(L)+10\n",
    "L = list(map(tuple, x))"
   ]
  },
  {
   "cell_type": "code",
   "execution_count": null,
   "id": "33d8740c",
   "metadata": {},
   "outputs": [],
   "source": []
  }
 ],
 "metadata": {
  "kernelspec": {
   "display_name": "Python 3 (ipykernel)",
   "language": "python",
   "name": "python3"
  },
  "language_info": {
   "codemirror_mode": {
    "name": "ipython",
    "version": 3
   },
   "file_extension": ".py",
   "mimetype": "text/x-python",
   "name": "python",
   "nbconvert_exporter": "python",
   "pygments_lexer": "ipython3",
   "version": "3.10.10"
  },
  "toc": {
   "base_numbering": 1,
   "nav_menu": {},
   "number_sections": true,
   "sideBar": true,
   "skip_h1_title": false,
   "title_cell": "Table of Contents",
   "title_sidebar": "Contents",
   "toc_cell": false,
   "toc_position": {},
   "toc_section_display": true,
   "toc_window_display": false
  }
 },
 "nbformat": 4,
 "nbformat_minor": 5
}
